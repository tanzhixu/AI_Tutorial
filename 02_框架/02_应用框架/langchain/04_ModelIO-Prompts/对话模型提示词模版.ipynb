{
 "cells": [
  {
   "cell_type": "markdown",
   "id": "7f2f0cea-8eb6-4397-a540-080b64a78bee",
   "metadata": {},
   "source": [
    "### 聊天模型提示词模版\n",
    "本笔记本介绍了如何在聊天模型中使用少镜头示例。关于如何最好地进行少镜头提示，似乎没有可靠的共识，最佳提示编译可能因模型而异。因此，我们提供了像FewShotChatMessagePromptTemplate这样的少镜头提示模板作为一个灵活的起点，您可以根据需要修改或替换它们。\n",
    "\n",
    "少量提示模板的目标是根据输入动态选择示例，然后在最终提示中格式化示例以提供模型。\n",
    "\n",
    "注意：以下代码示例适用于聊天模型。有关完成模型（LLM）的类似少拍提示示例，请参阅少拍提示模板指南。\n"
   ]
  },
  {
   "cell_type": "markdown",
   "id": "74ee83cc-8d35-46e3-8b94-b29e1a0a82b5",
   "metadata": {},
   "source": [
    "#### 固定示例\n",
    "最基本（也是最常见）的少镜头提示技术是使用固定的提示示例。这样您就可以选择一条链，对其进行评估，并避免担心生产中的额外活动部件。\n",
    "\n",
    "\n",
    "模板的基本组件是：-示例：要包含在最终提示中的字典示例列表。-example_prompt：通过其format_messages方法将每个示例转换为1条或更多消息。一个常见的示例是将每个示例转换为一条人类消息和一条人工智能消息响应，或者一条人类消息后跟一条函数调用消息。\n",
    "\n",
    "\n",
    "下面是一个简单的演示。首先，导入此示例的模块：\n"
   ]
  },
  {
   "cell_type": "code",
   "execution_count": 1,
   "id": "236c7561-0f90-42ad-a49f-bbd707bdb65e",
   "metadata": {},
   "outputs": [],
   "source": [
    "from langchain_core.prompts import (\n",
    "    ChatPromptTemplate,\n",
    "    FewShotChatMessagePromptTemplate,\n",
    ")"
   ]
  },
  {
   "cell_type": "markdown",
   "id": "bc0c3c66-0535-4058-8033-78da9701b6f0",
   "metadata": {},
   "source": [
    "##### 定义您要包含的示例"
   ]
  },
  {
   "cell_type": "code",
   "execution_count": 2,
   "id": "1d8b21b8-d08d-4c3c-99dd-7a89fcface9d",
   "metadata": {},
   "outputs": [],
   "source": [
    "examples = [\n",
    "    {\"input\": \"2+2\", \"output\": \"4\"},\n",
    "    {\"input\": \"2+3\", \"output\": \"5\"},\n",
    "]"
   ]
  },
  {
   "cell_type": "markdown",
   "id": "3218fd4d-c1fa-413e-bb46-46b1ce405798",
   "metadata": {},
   "source": [
    "##### 接下来，将它们组装成少拍提示模板"
   ]
  },
  {
   "cell_type": "code",
   "execution_count": 3,
   "id": "88b2c866-55a5-4ffb-9511-11bf01ea0dc4",
   "metadata": {},
   "outputs": [
    {
     "name": "stdout",
     "output_type": "stream",
     "text": [
      "Human: 2+2\n",
      "AI: 4\n",
      "Human: 2+3\n",
      "AI: 5\n"
     ]
    }
   ],
   "source": [
    "example_prompt = ChatPromptTemplate.from_messages(\n",
    "    [\n",
    "        (\"human\", \"{input}\"),\n",
    "        (\"ai\", \"{output}\"),\n",
    "    ]\n",
    ")\n",
    "few_shot_prompt = FewShotChatMessagePromptTemplate(\n",
    "    example_prompt=example_prompt,\n",
    "    examples=examples,\n",
    ")\n",
    "\n",
    "print(few_shot_prompt.format())"
   ]
  },
  {
   "cell_type": "markdown",
   "id": "6a553719-19d4-49a6-b36c-20d8800facdc",
   "metadata": {},
   "source": [
    "##### 最后，组装您的最终提示并将其与模型一起使用"
   ]
  },
  {
   "cell_type": "code",
   "execution_count": 4,
   "id": "f22253d0-33d3-4e20-a37f-1d882fd88b2c",
   "metadata": {},
   "outputs": [],
   "source": [
    "final_prompt = ChatPromptTemplate.from_messages(\n",
    "    [\n",
    "        (\"system\", \"You are a wondrous wizard of math.\"),\n",
    "        few_shot_prompt,\n",
    "        (\"human\", \"{input}\"),\n",
    "    ]\n",
    ")"
   ]
  },
  {
   "cell_type": "code",
   "execution_count": 7,
   "id": "09c28ef2-6124-4712-b4e8-2dd9b7febd43",
   "metadata": {},
   "outputs": [
    {
     "data": {
      "text/plain": [
       "AIMessage(content='I think there might be some confusion! A triangle doesn\\'t have a square. In mathematics, \"square\" typically refers to the result of multiplying a number by itself (e.g., 2 squared is 2^2 = 4). Triangles are geometric shapes with three sides and three angles, but they don\\'t have a square property.\\n\\nIf you meant something else, please feel free to clarify or ask another question!', response_metadata={'model': 'llama3', 'created_at': '2024-04-26T06:01:55.37120868Z', 'message': {'role': 'assistant', 'content': ''}, 'done': True, 'total_duration': 11088345307, 'load_duration': 9798867934, 'prompt_eval_count': 65, 'prompt_eval_duration': 73913000, 'eval_count': 87, 'eval_duration': 990416000}, id='run-b661ef55-087a-4cc1-abc4-0bfc7d3f4a64-0')"
      ]
     },
     "execution_count": 7,
     "metadata": {},
     "output_type": "execute_result"
    }
   ],
   "source": [
    "from langchain_community.chat_models import ChatOllama\n",
    "\n",
    "chain = final_prompt | ChatOllama(model=\"llama3\")\n",
    "\n",
    "chain.invoke({\"input\": \"What's the square of a triangle?\"})"
   ]
  },
  {
   "cell_type": "markdown",
   "id": "9fafb732-6098-4342-ac6c-87bd862fe323",
   "metadata": {},
   "source": [
    "#### 动态few-shot提示\n",
    "有时，您可能希望根据输入设置显示哪些示例的条件。为此，您可以将示例替换为example_selector。其他组件与上述相同！要查看，动态少镜头提示模板如下所示：\n",
    "\n",
    "- example_selector：负责为给定的输入选择少量示例（以及它们返回的顺序）。这些实现了BaseExampleSelector 接口。一个常见的例子是vectorstore支持的SemanticSimilarityExampleSelector\n",
    "- example_prompt：通过其format_messages方法将每个示例转换为1个或多个消息。一个常见的例子是将每个示例转换为一个人工消息和一个人工智能消息响应，或者一个人工消息后跟一个函数调用消息。\n",
    "\n",
    "这些可以再次与其他消息和聊天模板组合，以组装您的最终提示\n"
   ]
  },
  {
   "cell_type": "code",
   "execution_count": 8,
   "id": "6e8279d4-6b22-426d-a4c4-eef94f94fd2a",
   "metadata": {},
   "outputs": [],
   "source": [
    "from langchain_chroma import Chroma\n",
    "from langchain_core.example_selectors import SemanticSimilarityExampleSelector\n",
    "from langchain_community.embeddings import OllamaEmbeddings"
   ]
  },
  {
   "cell_type": "code",
   "execution_count": 9,
   "id": "97a60024-c65a-44c7-886f-562c7e856e06",
   "metadata": {},
   "outputs": [],
   "source": [
    "examples = [\n",
    "    {\"input\": \"2+2\", \"output\": \"4\"},\n",
    "    {\"input\": \"2+3\", \"output\": \"5\"},\n",
    "    {\"input\": \"2+4\", \"output\": \"6\"},\n",
    "    {\"input\": \"What did the cow say to the moon?\", \"output\": \"nothing at all\"},\n",
    "    {\n",
    "        \"input\": \"Write me a poem about the moon\",\n",
    "        \"output\": \"One for the moon, and one for me, who are we to talk about the moon?\",\n",
    "    },\n",
    "]\n",
    "\n",
    "to_vectorize = [\" \".join(example.values()) for example in examples]\n",
    "embeddings = OllamaEmbeddings(model='nomic-embed-text')\n",
    "vectorstore = Chroma.from_texts(to_vectorize, embeddings, metadatas=examples)"
   ]
  },
  {
   "cell_type": "markdown",
   "id": "53133755-a916-4fbf-9565-9f87fe65f2ce",
   "metadata": {},
   "source": [
    "##### 创建example_selector\n",
    "创建向量库后，您可以创建example_selector。在这里，我们将只获取前2个示例\n"
   ]
  },
  {
   "cell_type": "code",
   "execution_count": 10,
   "id": "17af9ec0-2570-42e7-ad4f-e5bce94f7199",
   "metadata": {},
   "outputs": [
    {
     "data": {
      "text/plain": [
       "[{'input': '2+4', 'output': '6'}, {'input': '2+2', 'output': '4'}]"
      ]
     },
     "execution_count": 10,
     "metadata": {},
     "output_type": "execute_result"
    }
   ],
   "source": [
    "example_selector = SemanticSimilarityExampleSelector(\n",
    "    vectorstore=vectorstore,\n",
    "    k=2,\n",
    ")\n",
    "\n",
    "# The prompt template will load examples by passing the input do the `select_examples` method\n",
    "example_selector.select_examples({\"input\": \"horse\"})"
   ]
  },
  {
   "cell_type": "markdown",
   "id": "67fb80b5-8534-405b-9b15-bf920b75ea15",
   "metadata": {},
   "source": [
    "##### 创建提示模板\n",
    "使用上面创建的example_selector组装提示模板。\n"
   ]
  },
  {
   "cell_type": "code",
   "execution_count": 11,
   "id": "6c31794d-5ec9-4640-a56c-6347f74a24c1",
   "metadata": {},
   "outputs": [],
   "source": [
    "from langchain_core.prompts import (\n",
    "    ChatPromptTemplate,\n",
    "    FewShotChatMessagePromptTemplate,\n",
    ")\n",
    "\n",
    "# Define the few-shot prompt.\n",
    "few_shot_prompt = FewShotChatMessagePromptTemplate(\n",
    "    # The input variables select the values to pass to the example_selector\n",
    "    input_variables=[\"input\"],\n",
    "    example_selector=example_selector,\n",
    "    # Define how each example will be formatted.\n",
    "    # In this case, each example will become 2 messages:\n",
    "    # 1 human, and 1 AI\n",
    "    example_prompt=ChatPromptTemplate.from_messages(\n",
    "        [(\"human\", \"{input}\"), (\"ai\", \"{output}\")]\n",
    "    ),\n",
    ")"
   ]
  },
  {
   "cell_type": "code",
   "execution_count": 12,
   "id": "e43633c3-e1c1-4085-a352-7f0be581bb3c",
   "metadata": {},
   "outputs": [
    {
     "name": "stdout",
     "output_type": "stream",
     "text": [
      "Human: 2+3\n",
      "AI: 5\n",
      "Human: 2+4\n",
      "AI: 6\n"
     ]
    }
   ],
   "source": [
    "print(few_shot_prompt.format(input=\"What's 3+3?\"))"
   ]
  },
  {
   "cell_type": "markdown",
   "id": "c26a469c-1260-4eda-9f8d-89ba31203176",
   "metadata": {},
   "source": [
    "##### 组装最终的提示模板："
   ]
  },
  {
   "cell_type": "code",
   "execution_count": 13,
   "id": "86b4f084-516b-4dee-bf88-49261e093bbb",
   "metadata": {},
   "outputs": [],
   "source": [
    "final_prompt = ChatPromptTemplate.from_messages(\n",
    "    [\n",
    "        (\"system\", \"You are a wondrous wizard of math.\"),\n",
    "        few_shot_prompt,\n",
    "        (\"human\", \"{input}\"),\n",
    "    ]\n",
    ")"
   ]
  },
  {
   "cell_type": "code",
   "execution_count": 14,
   "id": "1de8cedf-ab11-4a99-9864-a5732f6c98b3",
   "metadata": {},
   "outputs": [
    {
     "name": "stdout",
     "output_type": "stream",
     "text": [
      "Human: 2+3\n",
      "AI: 5\n",
      "Human: 2+4\n",
      "AI: 6\n"
     ]
    }
   ],
   "source": [
    "print(few_shot_prompt.format(input=\"What's 3+3?\"))"
   ]
  },
  {
   "cell_type": "markdown",
   "id": "0dc5006a-a0d5-4d9b-a7b8-92b6bc382b41",
   "metadata": {},
   "source": [
    "#### 与LLM一起使用\n",
    "现在，您可以将模型连接到few-shot提示。\n"
   ]
  },
  {
   "cell_type": "code",
   "execution_count": 15,
   "id": "1baa321b-de4e-42f7-bcdc-bbc34e7502c9",
   "metadata": {},
   "outputs": [
    {
     "data": {
      "text/plain": [
       "AIMessage(content='Easy peasy!\\n\\n3 + 3 = 6', response_metadata={'model': 'llama3', 'created_at': '2024-04-26T06:17:36.758995083Z', 'message': {'role': 'assistant', 'content': ''}, 'done': True, 'total_duration': 10296945893, 'load_duration': 9867175164, 'prompt_eval_count': 64, 'prompt_eval_duration': 72984000, 'eval_count': 12, 'eval_duration': 131307000}, id='run-7f4d4ec0-6cfe-4d17-8ed6-200c881908e3-0')"
      ]
     },
     "execution_count": 15,
     "metadata": {},
     "output_type": "execute_result"
    }
   ],
   "source": [
    "from langchain_community.chat_models import ChatOllama\n",
    "\n",
    "chain = final_prompt | ChatOllama(model=\"llama3\")\n",
    "\n",
    "chain.invoke({\"input\": \"What's 3+3?\"})"
   ]
  },
  {
   "cell_type": "code",
   "execution_count": null,
   "id": "da08f853-b65c-4feb-99b1-4f0443883cc5",
   "metadata": {},
   "outputs": [],
   "source": []
  }
 ],
 "metadata": {
  "kernelspec": {
   "display_name": "Python 3 (ipykernel)",
   "language": "python",
   "name": "python3"
  },
  "language_info": {
   "codemirror_mode": {
    "name": "ipython",
    "version": 3
   },
   "file_extension": ".py",
   "mimetype": "text/x-python",
   "name": "python",
   "nbconvert_exporter": "python",
   "pygments_lexer": "ipython3",
   "version": "3.11.7"
  }
 },
 "nbformat": 4,
 "nbformat_minor": 5
}

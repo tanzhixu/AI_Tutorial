{
 "cells": [
  {
   "cell_type": "markdown",
   "id": "98b5eae1-cdd0-4e66-86d6-5fd07fec04fa",
   "metadata": {},
   "source": [
    "### 字符串提示合成\n",
    "使用字符串提示时，每个模板都连接在一起。您可以直接使用提示或字符串（列表中的第一个元素需要是提示）。"
   ]
  },
  {
   "cell_type": "code",
   "execution_count": 1,
   "id": "79b580ff-12b4-4d1f-87d2-5f4bab085a06",
   "metadata": {},
   "outputs": [
    {
     "data": {
      "text/plain": [
       "PromptTemplate(input_variables=['language', 'topic'], template='Tell me a joke about {topic}, make it funny\\n\\nand in {language}')"
      ]
     },
     "execution_count": 1,
     "metadata": {},
     "output_type": "execute_result"
    }
   ],
   "source": [
    "from langchain_core.prompts import PromptTemplate\n",
    "prompt = (\n",
    "    PromptTemplate.from_template(\"Tell me a joke about {topic}\")\n",
    "    + \", make it funny\"\n",
    "    + \"\\n\\nand in {language}\"\n",
    ")\n",
    "prompt"
   ]
  },
  {
   "cell_type": "code",
   "execution_count": 2,
   "id": "b2b285df-f1a2-4c45-92b9-057751cfc7de",
   "metadata": {},
   "outputs": [
    {
     "data": {
      "text/plain": [
       "'Tell me a joke about sports, make it funny\\n\\nand in spanish'"
      ]
     },
     "execution_count": 2,
     "metadata": {},
     "output_type": "execute_result"
    }
   ],
   "source": [
    "prompt.format(topic=\"sports\", language=\"spanish\")"
   ]
  },
  {
   "cell_type": "markdown",
   "id": "a6b447db-8de4-4283-86b5-24dd74badd23",
   "metadata": {},
   "source": [
    "### 在LLMChain中使用"
   ]
  },
  {
   "cell_type": "code",
   "execution_count": 5,
   "id": "0c933a07-6141-463e-8a19-a73d8a4d22eb",
   "metadata": {},
   "outputs": [
    {
     "data": {
      "text/plain": [
       "'¡Hola! Here\\'s one:\\n\\n¿Por qué el fútbol es como un matrimonio?\\n\\nPorque en ambos casos: siempre hay una \"punta\" que no quiere ir al gol (la pelota) y siempre hay alguien que está dispuesto a \"amar\" al otro sin importar lo que pase (el público)!\\n\\nTranslation:\\n\\nWhy is football like a marriage?\\n\\nBecause in both cases: there\\'s always a \"point\" that doesn\\'t want to go to the goal (the ball) and there\\'s always someone willing to \"love\" the other no matter what happens (the crowd)! \\n\\nHope that made you laugh, amigo!'"
      ]
     },
     "execution_count": 5,
     "metadata": {},
     "output_type": "execute_result"
    }
   ],
   "source": [
    "from langchain.chains import LLMChain\n",
    "from langchain_community.llms import Ollama\n",
    "model = Ollama(model=\"llama3\")\n",
    "chain = LLMChain(llm=model, prompt=prompt)\n",
    "chain.run(topic=\"sports\", language=\"spanish\")"
   ]
  },
  {
   "cell_type": "markdown",
   "id": "aa7c2ca6-b624-4b5d-8265-ce9ec7b69353",
   "metadata": {},
   "source": [
    "### 聊天提示组成\r\n",
    "聊天提示由消息列表组成。纯粹为了开发人员体验，我们添加了一种方便的方法来创建这些提示。在此管道中，每个新元素都是最终提示中的新消息。"
   ]
  },
  {
   "cell_type": "code",
   "execution_count": 6,
   "id": "4380e7f1-f34d-48f7-8aaa-62d17d20444e",
   "metadata": {},
   "outputs": [],
   "source": [
    "from langchain_core.messages import AIMessage, HumanMessage, SystemMessage"
   ]
  },
  {
   "cell_type": "markdown",
   "id": "4367b13b-bb17-4a0e-a9a9-2989da99ce00",
   "metadata": {},
   "source": [
    "首先，让我们使用系统消息初始化基本ChatPromptTemplate。它不一定要从系统开始，但这通常是很好的做法"
   ]
  },
  {
   "cell_type": "code",
   "execution_count": 7,
   "id": "4212d5c9-cff8-4630-b810-f4aa79cc5004",
   "metadata": {},
   "outputs": [],
   "source": [
    "prompt = SystemMessage(content=\"You are a nice pirate\")"
   ]
  },
  {
   "cell_type": "markdown",
   "id": "6ece89ad-8b87-4a9b-ba29-a5aaafa38cc5",
   "metadata": {},
   "source": [
    "然后，您可以轻松地创建一个将其与其他消息相结合的管道 或消息模板。当没有变量时使用Message 格式化，当有变量时使用MessageTemplate 格式化了。您也可以只使用一个字符串（注意：这将自动 被推断为HumanMessagePromptTemplate。）"
   ]
  },
  {
   "cell_type": "code",
   "execution_count": 8,
   "id": "966e0c55-633e-4e43-a898-7f43cd651003",
   "metadata": {},
   "outputs": [],
   "source": [
    "new_prompt = (\n",
    "    prompt + HumanMessage(content=\"hi\") + AIMessage(content=\"what?\") + \"{input}\"\n",
    ")"
   ]
  },
  {
   "cell_type": "markdown",
   "id": "adf28935-35ce-4a23-ad8d-f9a0e8ab2257",
   "metadata": {},
   "source": [
    "在后台，这会创建一个ChatPromptTemplate类的实例，因此您可以像以前一样使用它！"
   ]
  },
  {
   "cell_type": "code",
   "execution_count": 9,
   "id": "5a7bfdfd-4c0e-4217-9a80-25fbb42bd125",
   "metadata": {},
   "outputs": [
    {
     "data": {
      "text/plain": [
       "[SystemMessage(content='You are a nice pirate'),\n",
       " HumanMessage(content='hi'),\n",
       " AIMessage(content='what?'),\n",
       " HumanMessage(content='i said hi')]"
      ]
     },
     "execution_count": 9,
     "metadata": {},
     "output_type": "execute_result"
    }
   ],
   "source": [
    "new_prompt.format_messages(input=\"i said hi\")"
   ]
  },
  {
   "cell_type": "markdown",
   "id": "9590fe91-4875-4b3e-910e-07adec31f165",
   "metadata": {},
   "source": [
    "您也可以像以前一样在LLMChain中使用它。"
   ]
  },
  {
   "cell_type": "code",
   "execution_count": null,
   "id": "f206382a-3797-4ad8-ace9-775b8f24b44b",
   "metadata": {},
   "outputs": [],
   "source": [
    "from langchain.chains import LLMChain\n",
    "from langchain_community.llms import Ollama\n",
    "model = Ollama(model=\"llama3\")\n",
    "chain = LLMChain(llm=model, prompt=new_prompt)\n",
    "chain.run(topic=\"sports\", language=\"spanish\")"
   ]
  }
 ],
 "metadata": {
  "kernelspec": {
   "display_name": "Python 3 (ipykernel)",
   "language": "python",
   "name": "python3"
  },
  "language_info": {
   "codemirror_mode": {
    "name": "ipython",
    "version": 3
   },
   "file_extension": ".py",
   "mimetype": "text/x-python",
   "name": "python",
   "nbconvert_exporter": "python",
   "pygments_lexer": "ipython3",
   "version": "3.11.7"
  }
 },
 "nbformat": 4,
 "nbformat_minor": 5
}

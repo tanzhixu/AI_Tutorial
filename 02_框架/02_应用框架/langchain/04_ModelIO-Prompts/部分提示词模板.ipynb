{
 "cells": [
  {
   "cell_type": "markdown",
   "id": "352e5982-3676-4104-9887-19104a36c18e",
   "metadata": {},
   "source": [
    "### 部分提示模板\n",
    "与其他方法一样，“部分”提示模板是有意义的——例如传入所需值的子集，以创建一个只需要剩余值子集的新提示模板。\n",
    "\n",
    "LangChain通过两种方式支持这一点：1.使用字符串值进行部分格式化。2.使用返回字符串值的函数进行部分格式化。\n",
    "\n",
    "这两种不同的方式支持不同的用例。在下面的示例中，我们回顾了这两个用例的动机以及如何在LangChain中做到这一点。\n"
   ]
  },
  {
   "cell_type": "markdown",
   "id": "45327343-3263-4d1f-9275-3c63cc4f21aa",
   "metadata": {},
   "source": [
    "### Partial with strings\n",
    "想要部分提示模板的一个常见用例是，如果您在其他变量之前获得一些变量。例如，假设您有一个需要两个变量foo和baz的提示模板。如果您在链的早期获得foo值，但稍后获得baz值，等到两个变量在同一个地方传递给提示模板可能会很烦人。相反，您可以用foo值部分提示模板，然后传递分区的提示模板，然后使用它。下面是这样做的一个例子：\n"
   ]
  },
  {
   "cell_type": "code",
   "execution_count": 1,
   "id": "be88b067-4d62-440b-a837-afd0947aed33",
   "metadata": {},
   "outputs": [
    {
     "name": "stdout",
     "output_type": "stream",
     "text": [
      "foobaz\n"
     ]
    }
   ],
   "source": [
    "from langchain_core.prompts import PromptTemplate\n",
    "\n",
    "prompt = PromptTemplate.from_template(\"{foo}{bar}\")\n",
    "partial_prompt = prompt.partial(foo=\"foo\")\n",
    "print(partial_prompt.format(bar=\"baz\"))"
   ]
  },
  {
   "cell_type": "markdown",
   "id": "a641bf44-c621-4567-be82-a6cf0d3690f0",
   "metadata": {},
   "source": [
    "##### 您也可以只使用分区变量初始化提示符"
   ]
  },
  {
   "cell_type": "code",
   "execution_count": 2,
   "id": "f4aadf45-fdce-4055-b0a1-84e7793484ba",
   "metadata": {},
   "outputs": [
    {
     "name": "stdout",
     "output_type": "stream",
     "text": [
      "foobaz\n"
     ]
    }
   ],
   "source": [
    "prompt = PromptTemplate(\n",
    "    template=\"{foo}{bar}\", input_variables=[\"bar\"], partial_variables={\"foo\": \"foo\"}\n",
    ")\n",
    "print(prompt.format(bar=\"baz\"))"
   ]
  },
  {
   "cell_type": "markdown",
   "id": "fb5d4184-2f81-4d73-ab73-51a8568fb9f4",
   "metadata": {},
   "source": [
    "### Partial with functions\n",
    "另一个常见的用法是用函数进行部分。用例是当你有一个变量，你知道你总是想以一种常见的方式获取。一个主要的例子是日期或时间。想象一下，你有一个提示，你总是想拥有当前日期。你不能在提示中硬编码它，把它和其他输入变量一起传递有点烦人。在这种情况下，使用一个总是返回当前日期的函数来部分提示非常方便。\n"
   ]
  },
  {
   "cell_type": "code",
   "execution_count": 3,
   "id": "f5b12b30-eca9-4e24-83a6-fe5913463d59",
   "metadata": {},
   "outputs": [],
   "source": [
    "from datetime import datetime\n",
    "\n",
    "\n",
    "def _get_datetime():\n",
    "    now = datetime.now()\n",
    "    return now.strftime(\"%m/%d/%Y, %H:%M:%S\")"
   ]
  },
  {
   "cell_type": "code",
   "execution_count": 4,
   "id": "a9e1f066-ecdc-4efc-b8b3-1032324fcc66",
   "metadata": {},
   "outputs": [
    {
     "name": "stdout",
     "output_type": "stream",
     "text": [
      "Tell me a funny joke about the day 04/26/2024, 06:22:29\n"
     ]
    }
   ],
   "source": [
    "prompt = PromptTemplate(\n",
    "    template=\"Tell me a {adjective} joke about the day {date}\",\n",
    "    input_variables=[\"adjective\", \"date\"],\n",
    ")\n",
    "partial_prompt = prompt.partial(date=_get_datetime)\n",
    "print(partial_prompt.format(adjective=\"funny\"))"
   ]
  },
  {
   "cell_type": "markdown",
   "id": "c10f4383-c338-44ad-a0ce-a0d768f65dcb",
   "metadata": {},
   "source": [
    "##### \n",
    "您也可以只使用分区变量初始化提示符，这在这个工作流程中通常更有意义"
   ]
  },
  {
   "cell_type": "code",
   "execution_count": 5,
   "id": "50332dfc-f678-4cdc-bf5f-9074f29258e6",
   "metadata": {},
   "outputs": [
    {
     "name": "stdout",
     "output_type": "stream",
     "text": [
      "Tell me a funny joke about the day 04/26/2024, 06:23:11\n"
     ]
    }
   ],
   "source": [
    "prompt = PromptTemplate(\n",
    "    template=\"Tell me a {adjective} joke about the day {date}\",\n",
    "    input_variables=[\"adjective\"],\n",
    "    partial_variables={\"date\": _get_datetime},\n",
    ")\n",
    "print(prompt.format(adjective=\"funny\"))"
   ]
  },
  {
   "cell_type": "code",
   "execution_count": null,
   "id": "8125f910-d74f-4d1a-93fb-99b6c0ee18ff",
   "metadata": {},
   "outputs": [],
   "source": []
  }
 ],
 "metadata": {
  "kernelspec": {
   "display_name": "Python 3 (ipykernel)",
   "language": "python",
   "name": "python3"
  },
  "language_info": {
   "codemirror_mode": {
    "name": "ipython",
    "version": 3
   },
   "file_extension": ".py",
   "mimetype": "text/x-python",
   "name": "python",
   "nbconvert_exporter": "python",
   "pygments_lexer": "ipython3",
   "version": "3.11.7"
  }
 },
 "nbformat": 4,
 "nbformat_minor": 5
}

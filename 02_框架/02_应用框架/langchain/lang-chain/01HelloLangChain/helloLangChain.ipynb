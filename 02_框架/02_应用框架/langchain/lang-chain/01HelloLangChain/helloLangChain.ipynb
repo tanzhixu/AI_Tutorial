{
 "cells": [
  {
   "cell_type": "markdown",
   "id": "77b289ed",
   "metadata": {},
   "source": [
    "#### 使用的是llama2-chinese大模型"
   ]
  },
  {
   "cell_type": "code",
   "execution_count": 16,
   "id": "6d5b8806",
   "metadata": {},
   "outputs": [],
   "source": [
    "from langchain_community.llms import Ollama\n",
    "llm = Ollama(model=\"llama2-chinese\")"
   ]
  },
  {
   "cell_type": "markdown",
   "id": "35fe0811",
   "metadata": {},
   "source": [
    "#### 进行提问"
   ]
  },
  {
   "cell_type": "code",
   "execution_count": 18,
   "id": "ab934f11",
   "metadata": {},
   "outputs": [
    {
     "data": {
      "text/plain": [
       "'1. 了解 langchain 的基本概念和用法，了解它是一个从字符串中提取关键词的自然语言处理工具。\\n2. 使用 langchain 查看示例代码，了解如何在 Python 中使用 Langchain。\\n3. 查看 Langchain 官方文档，了解所有关键词和其他功能。\\n4. 通过对 langchain 进行练习，学会如何使用它来处理自然语言数据集。\\n5. 为了更好地理解 Langchain，可以使用几种方法，例如：\\n\\t- 查看示例代码。\\n\\t- 使用 langchain 进行搜索。\\n\\t- 通过对 langchain 进行练习来学会如何使用 Langchain。\\n6. 在 Langchain 官方文档上可以看到示例代码，这将帮助你了解如何使用它。\\n7. 通过对 langchain 进行练习来学会如何使用 Langchain。\\n8. 使用 langchain 查看示例代码，这将帮助你更好地理解 Langchain。\\n9. 可以通过对langchain 进行练习来学会如何使用 Langchain。\\n10. 在 Langchain 官方文档上，查看示例代码，这将帮助你更好地理解 Langchain。\\n'"
      ]
     },
     "execution_count": 18,
     "metadata": {},
     "output_type": "execute_result"
    }
   ],
   "source": [
    "llm.invoke(\"如何学习使用langchain?\")"
   ]
  },
  {
   "cell_type": "markdown",
   "id": "49732be6",
   "metadata": {},
   "source": [
    "#### 使用提示词模板"
   ]
  },
  {
   "cell_type": "code",
   "execution_count": 19,
   "id": "acf6013f",
   "metadata": {},
   "outputs": [],
   "source": [
    "from langchain_core.prompts import ChatPromptTemplate\n",
    "prompt = ChatPromptTemplate.from_messages([\n",
    "    (\"system\", \"You are world class technical documentation writer.\"),\n",
    "    (\"user\", \"{input}\")\n",
    "])"
   ]
  },
  {
   "cell_type": "markdown",
   "id": "b39329e8",
   "metadata": {},
   "source": [
    "#### 使用链"
   ]
  },
  {
   "cell_type": "code",
   "execution_count": 20,
   "id": "8d532dac",
   "metadata": {},
   "outputs": [],
   "source": [
    "chain = prompt | llm "
   ]
  },
  {
   "cell_type": "markdown",
   "id": "c0da9cee",
   "metadata": {},
   "source": [
    "#### 调用链"
   ]
  },
  {
   "cell_type": "code",
   "execution_count": 21,
   "id": "728c8d2a",
   "metadata": {},
   "outputs": [
    {
     "data": {
      "text/plain": [
       "'1. 阅读LangChain的官方文档，了解它的功能和用法。\\n2. 试着使用LangChain来创建一个简单的项目，看看如果需要支持多语言、多模块等特性。\\n3. 查看LangChain的社区资源，比如Github上的issue和pull request，了解用户对其中的问题和改进建议。\\n4. 与相关人员共享您的想法和经验，并获取他们的反馈和建议。\\n5. 参加LangChain社区活动，与其他用户交流，了解他们的经验和培养。\\n6. 根据您的需求和使用情况进行调整和优化。\\n\\n以上是参考的答案，希望能帮到您。'"
      ]
     },
     "execution_count": 21,
     "metadata": {},
     "output_type": "execute_result"
    }
   ],
   "source": [
    "chain.invoke({\"input\": \"如何学习使用langchain?\"})"
   ]
  },
  {
   "cell_type": "markdown",
   "id": "af8295bd",
   "metadata": {},
   "source": [
    "#### 将聊天消息转换为字符串"
   ]
  },
  {
   "cell_type": "code",
   "execution_count": 22,
   "id": "f948058b",
   "metadata": {},
   "outputs": [],
   "source": [
    "from langchain_core.output_parsers import StrOutputParser\n",
    "output_parser = StrOutputParser()"
   ]
  },
  {
   "cell_type": "code",
   "execution_count": 23,
   "id": "50eef0dc",
   "metadata": {},
   "outputs": [],
   "source": [
    "chain = prompt | llm | output_parser"
   ]
  },
  {
   "cell_type": "code",
   "execution_count": 24,
   "id": "c6efad60",
   "metadata": {},
   "outputs": [
    {
     "data": {
      "text/plain": [
       "'\\n1. 学习langchain的基本概念和使用方法，可以从官方文档、社区网站或者相关课程中获取。\\n2. 了解语言处理任务分类，并选择最适合自己的翻译任务类型。\\n3. 使用langchain编写一个简单的翻译任务，并调用相关的api进行处理和分析。\\n4. 根据语言模型的性能和准确度进行选择和调整，以便为不同语言提供更好的翻译结果。\\n5. 使用langchain的相关技术和工具来实现高效、可靠的翻译任务，如文本处理、机器学习等。\\n6. 对于更复杂或特定的翻译任务，可以使用langchain的分割翻译功能进行逐个文本处理和生成，从而提高翻译效率。\\n7. 掌握langchain的开发环境和编程语言，并根据自身需求或问题进行调试、改进等工作。\\n\\n总之，使用langchain更好的方法是通过学习相关技能和知识，加上实际应用和调试来提升翻译效果。同时，建立一个包含多种语言处理任务类型的翻译任务库也可以提高langchain的使用效率。\\n'"
      ]
     },
     "execution_count": 24,
     "metadata": {},
     "output_type": "execute_result"
    }
   ],
   "source": [
    "chain.invoke({\"input\": \"如何更好的使用langchain?\"})"
   ]
  },
  {
   "cell_type": "code",
   "execution_count": null,
   "id": "668ea799",
   "metadata": {},
   "outputs": [],
   "source": []
  }
 ],
 "metadata": {
  "kernelspec": {
   "display_name": "Python 3 (ipykernel)",
   "language": "python",
   "name": "python3"
  },
  "language_info": {
   "codemirror_mode": {
    "name": "ipython",
    "version": 3
   },
   "file_extension": ".py",
   "mimetype": "text/x-python",
   "name": "python",
   "nbconvert_exporter": "python",
   "pygments_lexer": "ipython3",
   "version": "3.11.5"
  }
 },
 "nbformat": 4,
 "nbformat_minor": 5
}

{
 "cells": [
  {
   "cell_type": "markdown",
   "id": "9e8208b2",
   "metadata": {},
   "source": [
    "### List parser"
   ]
  },
  {
   "cell_type": "code",
   "execution_count": 12,
   "id": "84c6d6f5",
   "metadata": {},
   "outputs": [],
   "source": [
    "from langchain_community.llms import Ollama\n",
    "from langchain.output_parsers import CommaSeparatedListOutputParser\n",
    "from langchain.prompts import PromptTemplate"
   ]
  },
  {
   "cell_type": "code",
   "execution_count": 13,
   "id": "2fbeb79b",
   "metadata": {},
   "outputs": [],
   "source": [
    "llm = Ollama(model=\"qwen:7b\")\n",
    "output_parser = CommaSeparatedListOutputParser()\n",
    "format_instructions = output_parser.get_format_instructions()"
   ]
  },
  {
   "cell_type": "code",
   "execution_count": 17,
   "id": "3ccd93ec",
   "metadata": {},
   "outputs": [],
   "source": [
    "prompt = PromptTemplate(\n",
    "    template=\"List five {subject}.\\n{format_instructions}\",\n",
    "    input_variables=[\"subject\"],\n",
    "    partial_variables={\"format_instructions\": format_instructions},\n",
    ")"
   ]
  },
  {
   "cell_type": "code",
   "execution_count": 18,
   "id": "db8757e4",
   "metadata": {},
   "outputs": [],
   "source": [
    "chain = prompt | llm | output_parser"
   ]
  },
  {
   "cell_type": "code",
   "execution_count": 19,
   "id": "b8fced0f",
   "metadata": {},
   "outputs": [
    {
     "data": {
      "text/plain": [
       "['Sure',\n",
       " \"here's a list of 5 colors:\\n\\n```\\nred\",\n",
       " 'blue',\n",
       " 'green',\n",
       " 'yellow',\n",
       " 'orange\\n``` \\n\\nEach color is separated by a comma for clarity in the list.']"
      ]
     },
     "execution_count": 19,
     "metadata": {},
     "output_type": "execute_result"
    }
   ],
   "source": [
    "chain.invoke({\"subject\": \"输出5种颜色\"})"
   ]
  },
  {
   "cell_type": "markdown",
   "id": "1b69c15e",
   "metadata": {},
   "source": [
    "### JSON parser"
   ]
  },
  {
   "cell_type": "code",
   "execution_count": 20,
   "id": "c60efe15",
   "metadata": {},
   "outputs": [],
   "source": [
    "from typing import List\n",
    "from langchain.prompts import PromptTemplate\n",
    "from langchain_core.output_parsers import JsonOutputParser\n",
    "from langchain_core.pydantic_v1 import BaseModel, Field\n",
    "from langchain_community.llms import Ollama"
   ]
  },
  {
   "cell_type": "code",
   "execution_count": 21,
   "id": "e1315dc5",
   "metadata": {},
   "outputs": [],
   "source": [
    "llm = Ollama(model=\"qwen:7b\")"
   ]
  },
  {
   "cell_type": "code",
   "execution_count": 26,
   "id": "72539c79",
   "metadata": {},
   "outputs": [],
   "source": [
    "class Joke(BaseModel):\n",
    "    setup: str = Field(description=\"question to set up a joke\")\n",
    "    punchline: str = Field(description=\"answer to resolve the joke\")\n",
    "\n",
    "joke_query = \"给我讲个笑话\""
   ]
  },
  {
   "cell_type": "code",
   "execution_count": 27,
   "id": "4b55ddc1",
   "metadata": {},
   "outputs": [],
   "source": [
    "parser = JsonOutputParser(pydantic_object=Joke)\n",
    "\n",
    "prompt = PromptTemplate(\n",
    "    template=\"Answer the user query.\\n{format_instructions}\\n{query}\\n\",\n",
    "    input_variables=[\"query\"],\n",
    "    partial_variables={\"format_instructions\": parser.get_format_instructions()},\n",
    ")"
   ]
  },
  {
   "cell_type": "code",
   "execution_count": 28,
   "id": "f9204eb8",
   "metadata": {},
   "outputs": [],
   "source": [
    "chain = prompt | llm | parser"
   ]
  },
  {
   "cell_type": "code",
   "execution_count": 29,
   "id": "21c77536",
   "metadata": {},
   "outputs": [
    {
     "data": {
      "text/plain": [
       "{'setup': '你有没有遇到过完全理解不了的数学题？',\n",
       " 'punchline': '嗯，比如最近的一道‘两对父子’的家庭成员关系题...我至今还是没想明白呢！哈哈哈！'}"
      ]
     },
     "execution_count": 29,
     "metadata": {},
     "output_type": "execute_result"
    }
   ],
   "source": [
    "chain.invoke({\"query\": joke_query}) "
   ]
  },
  {
   "cell_type": "markdown",
   "id": "39848431",
   "metadata": {},
   "source": [
    "### YAML parser"
   ]
  },
  {
   "cell_type": "code",
   "execution_count": 35,
   "id": "e51c2de4",
   "metadata": {},
   "outputs": [],
   "source": [
    "from langchain.prompts import PromptTemplate\n",
    "from langchain.output_parsers import YamlOutputParser\n",
    "from langchain_core.pydantic_v1 import BaseModel, Field\n",
    "from langchain_community.llms import Ollama\n",
    "\n",
    "llm = Ollama(model=\"qwen:7b\")\n",
    "\n",
    "class Joke(BaseModel):\n",
    "    setup: str = Field(description=\"question to set up a joke\")\n",
    "    punchline: str = Field(description=\"answer to resolve the joke\")\n",
    "\n",
    "joke_query = \"给我讲个笑话\"\n",
    "\n",
    "parser = YamlOutputParser(pydantic_object=Joke)"
   ]
  },
  {
   "cell_type": "code",
   "execution_count": 36,
   "id": "f39e16f2",
   "metadata": {},
   "outputs": [],
   "source": [
    "prompt = PromptTemplate(\n",
    "    template=\"Answer the user query.\\n{format_instructions}\\n{query}\\n\",\n",
    "    input_variables=[\"query\"],\n",
    "    partial_variables={\"format_instructions\": parser.get_format_instructions()},\n",
    ")"
   ]
  },
  {
   "cell_type": "code",
   "execution_count": 37,
   "id": "c4d46df2",
   "metadata": {},
   "outputs": [
    {
     "data": {
      "text/plain": [
       "Joke(setup='为什么熊猫总是抱着竹子？', punchline='因为它们不会‘剥皮’啊！')"
      ]
     },
     "execution_count": 37,
     "metadata": {},
     "output_type": "execute_result"
    }
   ],
   "source": [
    "chain = prompt | llm | parser\n",
    "\n",
    "chain.invoke({\"query\": joke_query}) "
   ]
  },
  {
   "cell_type": "code",
   "execution_count": null,
   "id": "5a6e9204",
   "metadata": {},
   "outputs": [],
   "source": []
  }
 ],
 "metadata": {
  "kernelspec": {
   "display_name": "Python 3 (ipykernel)",
   "language": "python",
   "name": "python3"
  },
  "language_info": {
   "codemirror_mode": {
    "name": "ipython",
    "version": 3
   },
   "file_extension": ".py",
   "mimetype": "text/x-python",
   "name": "python",
   "nbconvert_exporter": "python",
   "pygments_lexer": "ipython3",
   "version": "3.11.5"
  }
 },
 "nbformat": 4,
 "nbformat_minor": 5
}

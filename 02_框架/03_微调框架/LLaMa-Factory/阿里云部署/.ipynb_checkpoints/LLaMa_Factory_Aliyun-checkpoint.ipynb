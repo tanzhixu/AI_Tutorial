{
 "cells": [
  {
   "cell_type": "markdown",
   "id": "70a60c63-090b-473e-a0df-dfc89c8ba544",
   "metadata": {},
   "source": [
    "1. Install LLaMa-Factory 安装LLaMa-Factory"
   ]
  },
  {
   "cell_type": "code",
   "execution_count": null,
   "id": "02e92016-d96e-4742-b229-e37fd11bdad3",
   "metadata": {
    "tags": []
   },
   "outputs": [],
   "source": [
    "!git clone https://github.com/hiyouga/LLaMA-Factory.git"
   ]
  },
  {
   "cell_type": "markdown",
   "id": "1f9381cf-31c0-4dd9-94e3-6d5b34de7ed8",
   "metadata": {},
   "source": [
    "2. Configure Environment 配置环境"
   ]
  },
  {
   "cell_type": "code",
   "execution_count": null,
   "id": "acac4706-5134-4172-be2d-932648d90756",
   "metadata": {
    "tags": []
   },
   "outputs": [],
   "source": [
    "%cd LLaMA-Factory\n",
    "!pip install -r requirements.txt\n",
    "!pip install transformers_stream_generator bitsandbytes tiktoken auto-gptq optimum autoawq\n",
    "!pip install \"gradio>=3.38.0,<4.0.0\"\n",
    "!pip install --upgrade tensorflow\n",
    "!pip uninstall flash-attn -y"
   ]
  },
  {
   "cell_type": "markdown",
   "id": "088bd8d6",
   "metadata": {},
   "source": [
    "(Optional) Generate public network link （可选）生成公网链接"
   ]
  },
  {
   "cell_type": "code",
   "execution_count": null,
   "id": "fd355b00",
   "metadata": {},
   "outputs": [],
   "source": [
    "!sed -i 's/share=False/share=True/' src/train_web.py\n",
    "!sed -i 's/share=False/share=True/' src/web_demo.py"
   ]
  },
  {
   "cell_type": "markdown",
   "id": "99385d22-d597-4a3b-a3fa-e4cfbfcfda36",
   "metadata": {},
   "source": [
    "3.Run LLaMa-Factory 运行LLaMa-Factory"
   ]
  },
  {
   "cell_type": "code",
   "execution_count": null,
   "id": "6f5e5420-f5b6-4f6c-bb6f-3b0946ad2983",
   "metadata": {
    "ExecutionIndicator": {
     "show": true
    },
    "tags": []
   },
   "outputs": [],
   "source": [
    "!CUDA_VISIBLE_DEVICES=0 USE_MODELSCOPE_HUB=1 python src/train_web.py"
   ]
  }
 ],
 "metadata": {
  "kernelspec": {
   "display_name": "Python 3 (ipykernel)",
   "language": "python",
   "name": "python3"
  },
  "language_info": {
   "codemirror_mode": {
    "name": "ipython",
    "version": 3
   },
   "file_extension": ".py",
   "mimetype": "text/x-python",
   "name": "python",
   "nbconvert_exporter": "python",
   "pygments_lexer": "ipython3",
   "version": "3.11.5"
  },
  "share": {
   "datetime": "2024-01-26T18:27:52.135Z",
   "image": {
    "name": "modelscope:1.11.0-pytorch2.1.2tensorflow2.14.0-gpu-py310-cu121-ubuntu22.04",
    "url": "dsw-registry-vpc.cn-shanghai.cr.aliyuncs.com/pai/modelscope:1.11.0-pytorch2.1.2tensorflow2.14.0-gpu-py310-cu121-ubuntu22.04"
   },
   "instance": "dsw-7ee0403fc8f6819a",
   "spec": {
    "id": "ecs.gn7i-c8g1.2xlarge",
    "type": "GPU"
   },
   "uid": "1947990434175216"
  }
 },
 "nbformat": 4,
 "nbformat_minor": 5
}

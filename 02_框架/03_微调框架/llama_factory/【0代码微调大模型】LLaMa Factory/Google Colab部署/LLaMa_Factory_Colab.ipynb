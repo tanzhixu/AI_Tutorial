{
  "cells": [
    {
      "cell_type": "markdown",
      "metadata": {
        "id": "lwevnKwexhhY"
      },
      "source": [
        "# 1. Install LLaMa-Factory 安装LLaMa-Factory"
      ]
    },
    {
      "cell_type": "code",
      "execution_count": null,
      "metadata": {
        "id": "CUVfV1rIfhk0"
      },
      "outputs": [],
      "source": [
        "!git clone https://github.com/hiyouga/LLaMA-Factory.git"
      ]
    },
    {
      "cell_type": "markdown",
      "metadata": {
        "id": "Chn9283ixmP6"
      },
      "source": [
        "# 2. Configure Environment 配置环境"
      ]
    },
    {
      "cell_type": "code",
      "execution_count": null,
      "metadata": {
        "id": "KUJvwlt5gB2u"
      },
      "outputs": [],
      "source": [
        "%cd LLaMA-Factory\n",
        "!pip install -r requirements.txt\n",
        "!pip install transformers_stream_generator bitsandbytes tiktoken auto-gptq optimum autoawq"
      ]
    },
    {
      "cell_type": "markdown",
      "metadata": {
        "id": "c7mM5jSwpWPA"
      },
      "source": [
        "# 3.Run LLaMa-Factory 运行LLaMa-Factory"
      ]
    },
    {
      "cell_type": "code",
      "execution_count": null,
      "metadata": {
        "id": "sJwPzn2imZC5"
      },
      "outputs": [],
      "source": [
        "!sed -i 's/share=False/share=True/' src/train_web.py\n",
        "!sed -i 's/share=False/share=True/' src/web_demo.py\n",
        "!python src/train_web.py"
      ]
    }
  ],
  "metadata": {
    "accelerator": "GPU",
    "colab": {
      "cell_execution_strategy": "setup",
      "provenance": []
    },
    "kernelspec": {
      "display_name": "Python 3",
      "name": "python3"
    },
    "language_info": {
      "name": "python"
    }
  },
  "nbformat": 4,
  "nbformat_minor": 0
}